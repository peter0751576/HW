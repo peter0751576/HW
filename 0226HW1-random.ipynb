{
 "cells": [
  {
   "cell_type": "code",
   "execution_count": 5,
   "metadata": {},
   "outputs": [
    {
     "name": "stdout",
     "output_type": "stream",
     "text": [
      "[6, 3, 2, 8, 5, 0, 4, 9, 7, 1]\n"
     ]
    }
   ],
   "source": [
    "import random as rd\n",
    "import sys\n",
    "import math\n",
    "\n",
    "n=9\n",
    "num=list(range(10))\n",
    "for i in list(range(10)):\n",
    "    x=rd.randint(0,n)\n",
    "    temp=num[x]\n",
    "    num[x]=num[n]\n",
    "    num[n]=temp\n",
    "    #print(temp)\n",
    "    n=n-1\n",
    "print(num)\n",
    "    "
   ]
  },
  {
   "cell_type": "code",
   "execution_count": null,
   "metadata": {},
   "outputs": [],
   "source": []
  }
 ],
 "metadata": {
  "kernelspec": {
   "display_name": "Python 3",
   "language": "python",
   "name": "python3"
  },
  "language_info": {
   "codemirror_mode": {
    "name": "ipython",
    "version": 3
   },
   "file_extension": ".py",
   "mimetype": "text/x-python",
   "name": "python",
   "nbconvert_exporter": "python",
   "pygments_lexer": "ipython3",
   "version": "3.6.8"
  }
 },
 "nbformat": 4,
 "nbformat_minor": 2
}
