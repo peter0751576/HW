{
 "cells": [
  {
   "cell_type": "code",
   "execution_count": null,
   "metadata": {},
   "outputs": [],
   "source": [
    "薄膜片電阻得量測與計算：\n",
    "\n",
    "利用電源供應器給予電流量取電壓，V=IR，得到電阻值。\n",
    "垂直邊緣量得R1\n",
    "平行邊緣量得R2\n",
    "利用范德堡公式，e^(-πR1/Rs)+e^(-πR2/Rs)=1，\n",
    "運用已知的R1、R2值去求取薄膜片電阻Rs"
   ]
  },
  {
   "cell_type": "code",
   "execution_count": null,
   "metadata": {},
   "outputs": [],
   "source": [
    "薄膜電子遷移率的量測：\n",
    "霍爾定律!\n",
    "\n",
    "導電率σ = qnμ = 1/ρ \n",
    "Vd = J/ne ,V = Ed\n",
    "載子濃度n = 1/qRH = JB/qE = IBd/qVA\n",
    "電子遷移率μ = Vd/E = 1/ρqn = IBd/qVA = VH/IBdρ \n",
    "\n",
    "經由機台量測出V/IB與片電阻，套進去公式得知電子遷移率!\n"
   ]
  }
 ],
 "metadata": {
  "kernelspec": {
   "display_name": "Python 3",
   "language": "python",
   "name": "python3"
  },
  "language_info": {
   "codemirror_mode": {
    "name": "ipython",
    "version": 3
   },
   "file_extension": ".py",
   "mimetype": "text/x-python",
   "name": "python",
   "nbconvert_exporter": "python",
   "pygments_lexer": "ipython3",
   "version": "3.7.1"
  }
 },
 "nbformat": 4,
 "nbformat_minor": 2
}
