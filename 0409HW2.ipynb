{
 "cells": [
  {
   "cell_type": "code",
   "execution_count": 7,
   "metadata": {},
   "outputs": [
    {
     "name": "stdout",
     "output_type": "stream",
     "text": [
      "Model_1  MSE =  0.20833333333333334\n",
      "Model_1  MAE =  0.4166666666666667\n",
      "Model_1  Cross-Entropy =  5.965784284662087\n",
      "\n",
      "Model_2  MSE =  0.09000000000000001\n",
      "Model_2  MAE =  0.25\n",
      "Model_2  Cross-Entropy =  3.088040034713085\n",
      "\n",
      "MSE優於MAE!\n"
     ]
    }
   ],
   "source": [
    "import math\n",
    "\n",
    "#MSE mean-square error\n",
    "#差平方的平均值\n",
    "def mse(array2d):\n",
    "    sums=0\n",
    "    num=0\n",
    "    for i in range(4):\n",
    "        for j in range(3):\n",
    "            num = ( array2d[i][j]-array2d[i][j+3] )**2\n",
    "            sums = sums +num\n",
    "    return(sums/12)\n",
    "\n",
    "#MAE mean-absolute error\n",
    "#誤差絕對值的平均值\n",
    "def mae(array2d):\n",
    "    sums=0\n",
    "    num=0\n",
    "    for i in range(4):\n",
    "        for j in range(3):\n",
    "            num = math.fabs( array2d[i][j]-array2d[i][j+3] )\n",
    "            sums = sums +num\n",
    "    return(sums/12)\n",
    "\n",
    "#Cross-Entropy\n",
    "def ce(array2d):\n",
    "    sums=0\n",
    "    for i in range(3):\n",
    "        num=0\n",
    "        for j in range(4):\n",
    "            num = num - array2d[j][i+3]*math.log( array2d[j][i],2 )\n",
    "        sums = sums +num\n",
    "    return(sums)\n",
    "\n",
    "#model1\n",
    "\n",
    "model1=[[0.4, 0.3, 0.3, 1, 0, 0],\n",
    "        [0.3, 0.4, 0.3, 0, 1, 0],\n",
    "        [0.5, 0.2, 0.3, 1, 0, 0],\n",
    "        [0.6, 0.2, 0.2, 0, 0, 1]]\n",
    "\n",
    "print( 'Model_1  MSE = ', mse(model1) )\n",
    "print( 'Model_1  MAE = ', mae(model1) )\n",
    "print( 'Model_1  Cross-Entropy = ', ce(model1) )\n",
    "print('')\n",
    "model2=[[0.8, 0.1, 0.1, 1, 0, 0],\n",
    "        [0.1, 0.7, 0.2, 0, 1, 0],\n",
    "        [0.7, 0.1, 0.2, 1, 0, 0],\n",
    "        [0.4, 0.3, 0.3, 0, 0, 1]]\n",
    "\n",
    "print( 'Model_2  MSE = ', mse(model2) )\n",
    "print( 'Model_2  MAE = ', mae(model2) )\n",
    "print( 'Model_2  Cross-Entropy = ', ce(model2) )\n",
    "print('')\n",
    "\n",
    "print('MSE優於MAE!')\n"
   ]
  }
 ],
 "metadata": {
  "kernelspec": {
   "display_name": "Python 3",
   "language": "python",
   "name": "python3"
  },
  "language_info": {
   "codemirror_mode": {
    "name": "ipython",
    "version": 3
   },
   "file_extension": ".py",
   "mimetype": "text/x-python",
   "name": "python",
   "nbconvert_exporter": "python",
   "pygments_lexer": "ipython3",
   "version": "3.7.2"
  }
 },
 "nbformat": 4,
 "nbformat_minor": 2
}
