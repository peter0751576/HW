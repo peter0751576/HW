{
 "cells": [
  {
   "cell_type": "code",
   "execution_count": null,
   "metadata": {},
   "outputs": [],
   "source": [
    "#安裝Anaconda\n",
    "Google \n",
    "→ Anaconda \n",
    "→ Download \n",
    "→ python 3.7 version 64-Bit \n",
    "→ 點擊程式執行安奘 \n",
    "→ 找到Anaconda navigator並開啟 \n",
    "→ 進入環境 \n",
    "→ Create一個新的環境 \n",
    "→ name and pick python 3.7 \n",
    "→ All Search numpy、scipy、matplotlib、scikit-learn、jupyter、spyder，then install \n",
    "→ Launch jupyter or spyder \n",
    "→ try to run some code\n"
   ]
  },
  {
   "cell_type": "code",
   "execution_count": null,
   "metadata": {},
   "outputs": [],
   "source": [
    "#快速回復環境-1\n",
    "下載anaconda並安裝，\n",
    "anaconda資料夾中envs裡有自己環境的資料夾，\n",
    "存取於雲端，可將環境的壓縮檔下載並解壓縮進envs資料夾中，\n",
    "即可快速重建。\n",
    "或是將整個資料夾壓縮存取進雲端，直接下載即可。\n"
   ]
  }
 ],
 "metadata": {
  "kernelspec": {
   "display_name": "Python 3",
   "language": "python",
   "name": "python3"
  },
  "language_info": {
   "codemirror_mode": {
    "name": "ipython",
    "version": 3
   },
   "file_extension": ".py",
   "mimetype": "text/x-python",
   "name": "python",
   "nbconvert_exporter": "python",
   "pygments_lexer": "ipython3",
   "version": "3.7.1"
  }
 },
 "nbformat": 4,
 "nbformat_minor": 2
}
