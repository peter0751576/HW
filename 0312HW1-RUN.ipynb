{
 "cells": [
  {
   "cell_type": "code",
   "execution_count": 2,
   "metadata": {},
   "outputs": [
    {
     "name": "stdout",
     "output_type": "stream",
     "text": [
      "[-3, 1, -3] : 第8象限\n",
      "[3, 1, -3] : 第5象限\n",
      "[-3, 1, 3] : 第4象限\n",
      "[3, 1, 3] : 第1象限\n",
      "[-3, -1, -3] : 第7象限\n"
     ]
    }
   ],
   "source": [
    "# 不能使用if\n",
    "# 故我採用while...else...進行判斷\n",
    "\n",
    "# 運用巢狀迴圈進行象限的判讀，使用while...else...進行判讀，並適時break掉迴圈\n",
    "\n",
    "num1 = [-3 , 1 ,-3]\n",
    "num2 = [3 , 1 ,-3]\n",
    "num3 = [-3 , 1 ,3]\n",
    "num4 = [3 , 1 ,3]\n",
    "num5 = [-3 , -1 ,-3]\n",
    "\n",
    "# 定義一個可以呼叫的function\n",
    "def pointchoose(num) :\n",
    "    while num[0]<0 :\n",
    "        while num[1]<0 :\n",
    "            while num[2]<0 :\n",
    "                print(num,\": 第7象限\")\n",
    "                break                       #第7象限，中斷迴圈\n",
    "            else :\n",
    "                print(num,\": 第3象限\")\n",
    "            break                           #得到第幾象限後中斷第二層迴圈\n",
    "        else :\n",
    "            while num[2]<0 :\n",
    "                print(num,\": 第8象限\")\n",
    "                break                       #第8象限，中斷迴圈\n",
    "            else :\n",
    "                print(num,\": 第4象限\")\n",
    "        break                               #得到第幾象限後中斷第一層迴圈\n",
    "    else :\n",
    "        while num[1]<0 :\n",
    "            while num[2]<0 :\n",
    "                print(num,\": 第6象限\")\n",
    "                break                       #第6象限，中斷迴圈\n",
    "            else :\n",
    "                print(num,\": 第2象限\")\n",
    "            break                           #得到第幾象限後中斷第二層迴圈\n",
    "        else :\n",
    "            while num[2]<0 :\n",
    "                print(num,\": 第5象限\")\n",
    "                break                       #第5象限，中斷迴圈\n",
    "            else :\n",
    "                print(num,\": 第1象限\")\n",
    "                \n",
    "pointchoose(num1)\n",
    "pointchoose(num2)\n",
    "pointchoose(num3)\n",
    "pointchoose(num4)\n",
    "pointchoose(num5)\n",
    "#第1象限 +++\n",
    "#第2象限 +-+\n",
    "#第3象限 --+\n",
    "#第4象限 -++\n",
    "#第5象限 ++-\n",
    "#第6象限 +--\n",
    "#第7象限 ---\n",
    "#第8象限 -+-"
   ]
  },
  {
   "cell_type": "code",
   "execution_count": null,
   "metadata": {},
   "outputs": [],
   "source": []
  }
 ],
 "metadata": {
  "kernelspec": {
   "display_name": "Python 3",
   "language": "python",
   "name": "python3"
  },
  "language_info": {
   "codemirror_mode": {
    "name": "ipython",
    "version": 3
   },
   "file_extension": ".py",
   "mimetype": "text/x-python",
   "name": "python",
   "nbconvert_exporter": "python",
   "pygments_lexer": "ipython3",
   "version": "3.7.2"
  }
 },
 "nbformat": 4,
 "nbformat_minor": 2
}
